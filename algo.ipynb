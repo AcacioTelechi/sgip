{
 "cells": [
  {
   "cell_type": "code",
   "execution_count": 1,
   "metadata": {},
   "outputs": [],
   "source": [
    "import requests\n",
    "import pandas as pd\n",
    "import json\n",
    "from tqdm import tqdm \n",
    "from time import sleep"
   ]
  },
  {
   "cell_type": "code",
   "execution_count": 22,
   "metadata": {},
   "outputs": [],
   "source": [
    "with open ('./ufs.json', 'r', encoding='utf8') as f:\n",
    "    ufs = json.load(f)"
   ]
  },
  {
   "cell_type": "code",
   "execution_count": 34,
   "metadata": {},
   "outputs": [
    {
     "name": "stderr",
     "output_type": "stream",
     "text": [
      "  0%|          | 0/26 [00:00<?, ?it/s]"
     ]
    },
    {
     "name": "stderr",
     "output_type": "stream",
     "text": [
      "100%|██████████| 26/26 [00:43<00:00,  1.68s/it]\n"
     ]
    }
   ],
   "source": [
    "orgs_final = []\n",
    "for uf in tqdm(ufs):\n",
    "    u = uf.get('sigla')\n",
    "    url = f\"https://sgip3.tse.jus.br/sgip3-consulta/api/v1/orgaoPartidario/consulta?dataFimVigencia=31%2F10%2F2023&dataInicioVigencia=01%2F06%2F2017&isComposicoesHistoricas=true&nrZona=0&sgUe={u}&sqPartido=0&tpAbrangencia=82\"\n",
    "    while True:\n",
    "        try:\n",
    "            resp = requests.get(url)\n",
    "            break\n",
    "        except requests.exceptions.ConnectionError:\n",
    "            sleep(5)\n",
    "            print(\"sleeping\")\n",
    "    orgs = resp.json()\n",
    "    orgs_final += orgs"
   ]
  },
  {
   "cell_type": "code",
   "execution_count": 35,
   "metadata": {},
   "outputs": [],
   "source": [
    "pd.DataFrame(orgs_final).to_excel('orgaos.xlsx')"
   ]
  },
  {
   "cell_type": "code",
   "execution_count": 2,
   "metadata": {},
   "outputs": [],
   "source": [
    "df_orgaos = pd.read_excel('orgaos.xlsx')\n",
    "orgs_final = df_orgaos.to_dict('records')"
   ]
  },
  {
   "cell_type": "code",
   "execution_count": null,
   "metadata": {},
   "outputs": [],
   "source": [
    "membros_final = []\n",
    "for org in tqdm(orgs_final):\n",
    "    org_id = org.get('sqOrgaoPartidario') \n",
    "    url_org = f\"https://sgip3.tse.jus.br/sgip3-consulta/api/v1/orgaoPartidario/comAnotacoesEMembros?idOrgaoPartidario={org_id}\"\n",
    "    while True:\n",
    "        try:\n",
    "            resp = requests.get(url_org)\n",
    "            if resp.status_code == 200:\n",
    "                membros = resp.json().get('membros')\n",
    "                for membro in membros:\n",
    "                    membro['orgaoId'] = org_id\n",
    "                membros_final += membros\n",
    "            break\n",
    "        except requests.exceptions.ConnectionError:\n",
    "            print('sleeping')\n",
    "            sleep(5)\n",
    "    "
   ]
  },
  {
   "cell_type": "code",
   "execution_count": 19,
   "metadata": {},
   "outputs": [],
   "source": [
    "df_membros = pd.DataFrame(membros_final)\n",
    "df_membros.to_excel('membros.xlsx')"
   ]
  },
  {
   "cell_type": "code",
   "execution_count": 8,
   "metadata": {},
   "outputs": [],
   "source": [
    "df_membros.merge(df_orgaos, left_on='orgaoId', right_on='sqOrgaoPartidario').to_excel('membros_orgaos.xlsx')"
   ]
  }
 ],
 "metadata": {
  "kernelspec": {
   "display_name": "Python 3",
   "language": "python",
   "name": "python3"
  },
  "language_info": {
   "codemirror_mode": {
    "name": "ipython",
    "version": 3
   },
   "file_extension": ".py",
   "mimetype": "text/x-python",
   "name": "python",
   "nbconvert_exporter": "python",
   "pygments_lexer": "ipython3",
   "version": "3.12.0"
  }
 },
 "nbformat": 4,
 "nbformat_minor": 2
}
